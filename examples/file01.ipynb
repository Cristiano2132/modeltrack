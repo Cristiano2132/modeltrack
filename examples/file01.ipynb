{
 "cells": [
  {
   "cell_type": "code",
   "execution_count": 1,
   "id": "f77aebf1",
   "metadata": {},
   "outputs": [
    {
     "name": "stderr",
     "output_type": "stream",
     "text": [
      "Setting default log level to \"WARN\".\n",
      "To adjust logging level use sc.setLogLevel(newLevel). For SparkR, use setLogLevel(newLevel).\n",
      "25/08/18 22:31:24 WARN NativeCodeLoader: Unable to load native-hadoop library for your platform... using builtin-java classes where applicable\n",
      "25/08/18 22:31:25 WARN Utils: Service 'SparkUI' could not bind on port 4040. Attempting port 4041.\n"
     ]
    },
    {
     "name": "stdout",
     "output_type": "stream",
     "text": [
      "Spark Version : 3.5.1\n"
     ]
    }
   ],
   "source": [
    "from pyspark.sql import SparkSession  # Import the SparkSession class\n",
    "\n",
    "spark = SparkSession.builder \\\n",
    "    .appName(\"MyApp\") \\\n",
    "    .getOrCreate()\n",
    "\n",
    "print(\"Spark Version : \" + spark.version)"
   ]
  },
  {
   "cell_type": "code",
   "execution_count": 1,
   "id": "7a1567f3",
   "metadata": {},
   "outputs": [
    {
     "name": "stdout",
     "output_type": "stream",
     "text": [
      ">>> Bins idade (TreeBinner): [34.0, 55.0]\n",
      "\n",
      ">>> Idade binned (TreeBinner):\n",
      "0         <34\n",
      "1         <34\n",
      "2    [34, 55)\n",
      "3         <34\n",
      "4    [34, 55)\n",
      "5    [34, 55)\n",
      "6        >=55\n",
      "7    [34, 55)\n",
      "Name: idade, dtype: object\n",
      "\n",
      ">>> Bins renda (CutBinner): [2000, 5000, 8000]\n",
      "\n",
      ">>> Renda binned (CutBinner):\n",
      "0           <2000\n",
      "1           <2000\n",
      "2    [5000, 8000)\n",
      "3    [2000, 5000)\n",
      "4    [2000, 5000)\n",
      "5          >=8000\n",
      "6          >=8000\n",
      "7           <2000\n",
      "Name: renda, dtype: object\n"
     ]
    }
   ],
   "source": [
    "\n",
    "import numpy as np\n",
    "import pandas as pd\n",
    "from modeltrack.feature_engineering import TreeBinner, CutBinner, WOEEncoder, FeaturePipeline\n",
    "\n",
    "df = pd.DataFrame({\n",
    "    \"idade\": [22, 25, 45, 33, 40, 50, 60, 35],\n",
    "    \"renda\": [1500, 1800, 7000, 2500, 3000, 10000, 8000, 1200],\n",
    "    \"sexo\": [\"M\", \"F\", \"M\", \"F\", \"M\", \"M\", \"F\", \"M\"],\n",
    "    \"target\": [0, 0, 1, 0, 1, 1, 0, 1]\n",
    "})\n",
    "\n",
    "transformations = {\n",
    "    \"idade\": [TreeBinner(max_depth=2), WOEEncoder()],\n",
    "    \"renda\": [CutBinner(bins=[2000, 5000, 8000]), WOEEncoder()],\n",
    "    \"sexo\": [WOEEncoder()],\n",
    "}\n",
    "\n",
    "\n",
    "\n",
    "# === TreeBinner ===\n",
    "tree_binner = TreeBinner(max_depth=2)\n",
    "bins_idade = tree_binner.fit(df[\"idade\"], df[\"target\"])\n",
    "print(\">>> Bins idade (TreeBinner):\", bins_idade)\n",
    "\n",
    "idade_binned = tree_binner.transform(df[\"idade\"])\n",
    "print(\"\\n>>> Idade binned (TreeBinner):\")\n",
    "print(idade_binned)\n",
    "\n",
    "# === CutBinner ===\n",
    "cut_binner = CutBinner(bins=[2000, 5000, 8000])\n",
    "bins_renda = cut_binner.fit(df[\"renda\"], df[\"target\"])\n",
    "print(\"\\n>>> Bins renda (CutBinner):\", bins_renda)\n",
    "\n",
    "renda_binned = cut_binner.transform(df[\"renda\"])\n",
    "print(\"\\n>>> Renda binned (CutBinner):\")\n",
    "print(renda_binned)\n",
    "\n",
    "\n",
    "# pipeline = FeaturePipeline(transformations)\n",
    "# df_transformed = pipeline.fit_transform(df.drop(columns=\"target\"), df[\"target\"])\n",
    "\n",
    "# print(\">>> transformed df\")\n",
    "# print(df_transformed)\n",
    "# print(\"\\n>>> binning rules\")\n",
    "# print(pipeline.binning_rules)   # <-- aqui estão os cuts calculados no fit\n",
    "# print(\"\\n>>> woe maps\")\n",
    "# print(pipeline.woe_maps)        # <-- woe maps (quando gerados)"
   ]
  }
 ],
 "metadata": {
  "kernelspec": {
   "display_name": ".venv",
   "language": "python",
   "name": "python3"
  },
  "language_info": {
   "codemirror_mode": {
    "name": "ipython",
    "version": 3
   },
   "file_extension": ".py",
   "mimetype": "text/x-python",
   "name": "python",
   "nbconvert_exporter": "python",
   "pygments_lexer": "ipython3",
   "version": "3.10.10"
  }
 },
 "nbformat": 4,
 "nbformat_minor": 5
}
